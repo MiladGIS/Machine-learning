{
 "cells": [
  {
   "cell_type": "code",
   "execution_count": 1,
   "id": "41aa0afa",
   "metadata": {},
   "outputs": [],
   "source": [
    "import numpy as np\n",
    "import os\n",
    "import matplotlib.image as mpimg\n",
    "import matplotlib.pyplot as plt\n",
    "import re\n",
    "import random\n",
    "import time\n",
    "import warnings\n",
    "warnings.filterwarnings(\"ignore\")\n",
    "from sklearn.decomposition import PCA\n",
    "from scipy.stats import multivariate_normal\n",
    "from operator import itemgetter\n",
    "\n",
    "from sklearn import svm\n",
    "from sklearn.model_selection import GridSearchCV"
   ]
  },
  {
   "cell_type": "markdown",
   "id": "061bb93a",
   "metadata": {},
   "source": [
    "reading data and preparing them"
   ]
  },
  {
   "cell_type": "code",
   "execution_count": 3,
   "id": "fff80d62",
   "metadata": {},
   "outputs": [],
   "source": [
    "# since python os list dir is not compaible with alphabetical order\n",
    "# sort def used to set compatibility with that\n",
    "# in other words it is to set file order compatible with dataset\n",
    "def sorted_alphanumeric(data):\n",
    "    convert = lambda text: int(text) if text.isdigit() else text.lower()\n",
    "    alphanum_key = lambda key: [ convert(c) for c in re.split('([0-9]+)', key) ] \n",
    "    return sorted(data, key=alphanum_key)\n",
    "\n",
    "# read all labels in one list, either bulding or explosion, even both\n",
    "Y = []\n",
    "# get all file in bulding directory to find name fo annotations files\n",
    "keyF = os.listdir(r\"project-data\\annotations\\building\")\n",
    "for i in keyF:\n",
    "    # join name and directory to reach each file in that directory\n",
    "    pathBuilding = os.path.join(\"project-data\\\\annotations\\\\building\\\\\", i)\n",
    "    pathExplosion = os.path.join(\"project-data\\\\annotations\\\\explosion_fire\\\\\", i)\n",
    "    # load annotations text file for both bulding and explosions as numpy array\n",
    "    tempBuilding = np.loadtxt(pathBuilding, dtype = str)\n",
    "    tempExplosion = np.loadtxt(pathExplosion, dtype = str)\n",
    "    for i in range(len(tempBuilding)):\n",
    "        if int(tempBuilding[i, 0]) == 1 and int(tempExplosion[i, 0]) == 1:\n",
    "            # if both explosion and bulding is in image label image as 3\n",
    "            Y.append(3)\n",
    "        elif int(tempBuilding[i, 0]) == 0 and int(tempExplosion[i, 0]) == 1:\n",
    "            # if only explosion is in image label image as 2\n",
    "            Y.append(2)\n",
    "        elif int(tempBuilding[i, 0]) == 1 and int(tempExplosion[i, 0]) == 0:\n",
    "            # if only bulding is in image label image as 1\n",
    "            Y.append(1)\n",
    "        else:\n",
    "            # id niether bulding or explosion not in image label it 0\n",
    "            Y.append(0)\n",
    "\n",
    "# load all image data to one list as an grayscale not 3dimensional array\n",
    "# steps to reach fiel same as pervious\n",
    "X = []\n",
    "rgb_weights = [0.2989, 0.5870, 0.1140]\n",
    "# witghs for transforming RGB image to 1 dimesion array\n",
    "keyF = os.listdir(r\"project-data\\keyframes\")\n",
    "for i in keyF:\n",
    "    pathFrames = os.path.join(\"project-data\\\\keyframes\\\\\", i)\n",
    "    pictures = sorted_alphanumeric(os.listdir(pathFrames))\n",
    "    for j in pictures:\n",
    "        # avoid junk files in directory\n",
    "        if j != 'Thumbs.db':\n",
    "            # read, transfrom and add array to main list\n",
    "            img = mpimg.imread(os.path.join(pathFrames, j))\n",
    "            grayscale_image = np.dot(img[...,:3], rgb_weights)\n",
    "            X.append(grayscale_image)\n",
    "        "
   ]
  },
  {
   "cell_type": "code",
   "execution_count": 4,
   "id": "14eb487b",
   "metadata": {},
   "outputs": [],
   "source": [
    "# all dataset is divided in two fold as train and test data set\n",
    "# for the sake of cross validation, together random shuffle wil be used\n",
    "tempBld = list(zip(X, Y))\n",
    "random.shuffle(tempBld)\n",
    "X, Y = zip(*tempBld)\n",
    "X_train, X_test = X[:][:int(len(X) * 0.75)], X[:][int(len(X) * 0.75):]\n",
    "Y_train, Y_test = Y[:int(len(Y) * 0.75)], Y[int(len(Y) * 0.75):]\n"
   ]
  },
  {
   "cell_type": "code",
   "execution_count": 5,
   "id": "73b92bb9",
   "metadata": {},
   "outputs": [],
   "source": [
    "# define evaluate function to calculate preccesion of each classifier\n",
    "def evaluate(y_true, y_pred):\n",
    "    return (sum(x == y for x, y in zip(y_true, y_pred)) / len(y_true)) * 100"
   ]
  },
  {
   "cell_type": "markdown",
   "id": "2dfc89b3",
   "metadata": {},
   "source": [
    "# Define knn algorithm and use it on image dataset"
   ]
  },
  {
   "cell_type": "code",
   "execution_count": 13,
   "id": "6805e83f",
   "metadata": {},
   "outputs": [],
   "source": [
    "# Following function uses eucleadan distance to calculate liklehood\n",
    "# inputs are k and X and correct corresponing answers\n",
    "def predict(X_train, Y_train, X_test, K = 2):\n",
    "    predictions = []\n",
    "    for i in range(len(X_test)):\n",
    "        # calculate distance\n",
    "        dist = np.array([np.sqrt(np.sum((X_test[i] - x_t) ** 2)) for x_t in X_train])\n",
    "        # sort distance till k\n",
    "        dist_sorted = dist.argsort()[:K]\n",
    "        neigh_count = {}\n",
    "        for idx in dist_sorted:\n",
    "            # for each k distance count neighbordhoods\n",
    "            if Y_train[idx] in neigh_count:\n",
    "                neigh_count[Y_train[idx]] += 1\n",
    "            else:\n",
    "                neigh_count[Y_train[idx]] = 1\n",
    "        sorted_neigh_count = sorted(neigh_count.items(), key = itemgetter(1), reverse = True)\n",
    "        predictions.append(sorted_neigh_count[0][0]) \n",
    "    return predictions"
   ]
  },
  {
   "cell_type": "code",
   "execution_count": 5,
   "id": "9208446b",
   "metadata": {},
   "outputs": [
    {
     "name": "stdout",
     "output_type": "stream",
     "text": [
      "K = 1; Precision for KNN prediction: 71.57534246575342\n",
      "\n",
      "--- 441.0444266796112 seconds to run KNN with K reach to 1. ---\n",
      "\n",
      "K = 4; Precision for KNN prediction: 76.71232876712328\n",
      "\n",
      "--- 865.8653597831726 seconds to run KNN with K reach to 4. ---\n",
      "\n",
      "K = 7; Precision for KNN prediction: 79.7945205479452\n",
      "\n",
      "--- 1389.7816932201385 seconds to run KNN with K reach to 7. ---\n",
      "\n",
      "K = 10; Precision for KNN prediction: 80.82191780821918\n",
      "\n",
      "--- 1910.2586417198181 seconds to run KNN with K reach to 10. ---\n",
      "\n",
      "K = 20; Precision for KNN prediction: 80.70776255707763\n",
      "\n",
      "--- 2472.411285877228 seconds to run KNN with K reach to 20. ---\n",
      "\n",
      "\n",
      "--- 2472.4122817516327 seconds to run KNN algorith. ---\n",
      "\n"
     ]
    },
    {
     "name": "stderr",
     "output_type": "stream",
     "text": [
      "No handles with labels found to put in legend.\n"
     ]
    },
    {
     "data": {
      "image/png": "[encoded data removed]",
      "text/plain": [
       "<Figure size 432x288 with 1 Axes>"
      ]
     },
     "metadata": {
      "needs_background": "light"
     },
     "output_type": "display_data"
    }
   ],
   "source": [
    "start_time = time.time()\n",
    "kVals = [1, 4, 7, 10, 20]\n",
    "accKNN = []\n",
    "for k in kVals:\n",
    "    # fet knn result for Test images\n",
    "    y_pred_knn = predict(X_train, Y_train, X_test, k)\n",
    "    # evaluate the accuacy for them\n",
    "    acc_KNN = evaluate(Y_test, y_pred_knn)\n",
    "    accKNN.append(acc_KNN)\n",
    "    print(\"K = \" + str(k) + \"; Precision for KNN prediction: \" + str(acc_KNN))\n",
    "    # calualate runtime for each k\n",
    "    # this may take a while to run as images are too many\n",
    "    print(\"\\n--- {} seconds to run KNN with K reach to {}. ---\\n\".format((time.time() - start_time), k))\n",
    "print(\"\\n--- {} seconds to run KNN algorith. ---\\n\".format((time.time() - start_time)))\n",
    "# plot result, this will show how the knn work with diffrent k values\n",
    "if len(kVals) > 1:\n",
    "    plt.plot(kVals, np.transpose(accKNN), 'r', label = 'precision')\n",
    "    plt.legend(loc = 'upper right')\n",
    "    plt.xlabel('K value')\n",
    "    plt.ylabel('precision')\n",
    "    plt.title(\"Precision-recall curve for plain KNN\")"
   ]
  },
  {
   "cell_type": "markdown",
   "id": "68db2bd9",
   "metadata": {},
   "source": [
    "prepare knn data for pca and define knn with partial distacne method"
   ]
  },
  {
   "cell_type": "code",
   "execution_count": 4,
   "id": "df129a8d",
   "metadata": {},
   "outputs": [],
   "source": [
    "# Following function uses partial distacne method and dimension reduction to calculate liklehood\n",
    "# use decomposition to reduce image dimensions\n",
    "X_pca = []\n",
    "for i in range(len(X)):\n",
    "    pca = PCA(28).fit(X[i])\n",
    "    X_pca.append(pca.transform(X[i]))\n",
    "\n",
    "X_train_pca, X_test_pca = X_pca[:][:int(len(X) * 0.75)], X_pca[:][int(len(X) * 0.75):]"
   ]
  },
  {
   "cell_type": "code",
   "execution_count": 5,
   "id": "a7e59361",
   "metadata": {},
   "outputs": [],
   "source": [
    "# Following function uses Partial distance method to calculate liklehood\n",
    "# inputs are k and X and correct corresponing answers\n",
    "def predictPD(X_train, Y_train, X_test, K = 2):\n",
    "    predictions = []\n",
    "    for i in range(len(X_test)):\n",
    "        # calculate distance\n",
    "        dist = np.array([np.sqrt(np.sum((X_test[i] - x_t) ** 2)) for x_t in X_train[0:500]])\n",
    "        # in here you can chnage the factor for distance some for each division\n",
    "        if sum(dist) > (len(dist) * 18000):\n",
    "            predictions.append(0)\n",
    "            continue\n",
    "        else:\n",
    "            np.append(dist, np.array([np.sqrt(np.sum((X_test[i] - x_t) ** 2)) for x_t in X_train[500:]]))\n",
    "        # sort distance till k\n",
    "        dist_sorted = dist.argsort()[:K]\n",
    "        neigh_count = {}\n",
    "        for idx in dist_sorted:\n",
    "            # for each k distance count neighbordhoods\n",
    "            if Y_train[idx] in neigh_count:\n",
    "                neigh_count[Y_train[idx]] += 1\n",
    "            else:\n",
    "                neigh_count[Y_train[idx]] = 1\n",
    "        sorted_neigh_count = sorted(neigh_count.items(), key = itemgetter(1), reverse = True)\n",
    "        predictions.append(sorted_neigh_count[0][0]) \n",
    "    return predictions"
   ]
  },
  {
   "cell_type": "code",
   "execution_count": 6,
   "id": "8345cb09",
   "metadata": {
    "scrolled": true
   },
   "outputs": [
    {
     "name": "stdout",
     "output_type": "stream",
     "text": [
      "K = 1; Precision for KNN prediction: 75.0\n",
      "\n",
      "--- 363.6836166381836 seconds to run KNN by PCA with K reach to 1. ---\n",
      "\n",
      "K = 4; Precision for KNN prediction: 80.70776255707763\n",
      "\n",
      "--- 679.8243355751038 seconds to run KNN by PCA with K reach to 4. ---\n",
      "\n",
      "K = 7; Precision for KNN prediction: 81.9634703196347\n",
      "\n",
      "--- 998.0445539951324 seconds to run KNN by PCA with K reach to 7. ---\n",
      "\n",
      "K = 10; Precision for KNN prediction: 82.07762557077626\n",
      "\n",
      "--- 1288.0301024913788 seconds to run KNN by PCA with K reach to 10. ---\n",
      "\n",
      "K = 20; Precision for KNN prediction: 82.42009132420091\n",
      "\n",
      "--- 1572.729433298111 seconds to run KNN by PCA with K reach to 20. ---\n",
      "\n",
      "\n",
      "--- 1572.7304005622864 seconds to run KNN algorith with PCA and Partial distance meothod. ---\n",
      "\n"
     ]
    },
    {
     "data": {
      "image/png": "[encoded data removed]",
      "text/plain": [
       "<Figure size 432x288 with 1 Axes>"
      ]
     },
     "metadata": {
      "needs_background": "light"
     },
     "output_type": "display_data"
    }
   ],
   "source": [
    "# same as pervious knn instead of rwo image, compressed image data will be used\n",
    "# to see the time difference between\n",
    "start_time = time.time()\n",
    "kVals = [1, 4, 7, 10, 20]\n",
    "accKNN_pca = []\n",
    "for k in kVals:\n",
    "    y_pred_knn = predictPD(X_train_pca, Y_train, X_test_pca, k)\n",
    "    acc_KNN = evaluate(Y_test, y_pred_knn)\n",
    "    accKNN_pca.append(acc_KNN)\n",
    "    print(\"K = \" + str(k) + \"; Precision for KNN prediction: \" + str(acc_KNN))\n",
    "    \n",
    "    print(\"\\n--- {} seconds to run KNN by PCA with K reach to {}. ---\\n\".format((time.time() - start_time), k))\n",
    "print(\"\\n--- {} seconds to run KNN algorith with PCA and Partial distance meothod. ---\\n\".format((time.time() - start_time)))\n",
    "if len(kVals) > 1:\n",
    "    plt.plot(kVals, np.transpose(accKNN_pca), 'r', label = 'precision')\n",
    "    plt.legend(loc = 'upper right')\n",
    "    plt.xlabel('K value')\n",
    "    plt.ylabel('precision')\n",
    "    plt.title(\"Precision-recall curve for KNN with PCA\")"
   ]
  },
  {
   "cell_type": "markdown",
   "id": "d641abe8",
   "metadata": {},
   "source": [
    "# Prepare data for Bayes algorithms and Define Algorithms"
   ]
  },
  {
   "cell_type": "code",
   "execution_count": null,
   "id": "0fcf7bad",
   "metadata": {},
   "outputs": [],
   "source": [
    "# flatten each image array from two dimension to one row\n",
    "Xx = np.zeros((len(X_train), X_train[0].shape[0] * X_train[0].shape[1]))\n",
    "for i in range(len(X_train)):\n",
    "    Xx[i] = X_train[i].flatten()\n",
    "    \n",
    "Xt = np.zeros((len(X_test), X_test[0].shape[0] * X_test[0].shape[1]))\n",
    "for i in range(len(X_test)):\n",
    "    Xt[i] = X_test[i].flatten()\n",
    "    \n",
    "Xx_pca = np.zeros((len(X_train_pca), X_train_pca[0].shape[0] * X_train_pca[0].shape[1]))\n",
    "for i in range(len(X_train_pca)):\n",
    "    Xx_pca[i] = X_train_pca[i].flatten()\n",
    "    \n",
    "Xt_pca = np.zeros((len(X_test_pca), X_test_pca[0].shape[0] * X_test_pca[0].shape[1]))\n",
    "for i in range(len(X_test_pca)):\n",
    "    Xt_pca[i] = X_test_pca[i].flatten()"
   ]
  },
  {
   "cell_type": "markdown",
   "id": "e719c055",
   "metadata": {},
   "source": [
    "# Bayes algorithm based on Guassian model"
   ]
  },
  {
   "cell_type": "code",
   "execution_count": 18,
   "id": "ce469eac",
   "metadata": {},
   "outputs": [],
   "source": [
    "class BayesGaussian:\n",
    "    def __init__(self):\n",
    "        self.fit_data = dict()\n",
    "        self.category_num = 0\n",
    "        self.train_data = np.mat([])\n",
    "        self.train_label = np.mat([])\n",
    "        self.test_data = np.mat([])\n",
    "        self.predict_label = np.mat([])\n",
    "        self.test_categories = []\n",
    "\n",
    "    def gaussian_fit(self, category_i):\n",
    "        indexes = [i for i, label in enumerate(self.train_label) if label == category_i]\n",
    "        class_i_images = []\n",
    "        for i in indexes:\n",
    "            class_i_images.append(self.train_data[i])\n",
    "        i_images_matrix = np.array(class_i_images)\n",
    "        class_i_mean = i_images_matrix.mean(0)\n",
    "        class_i_cov = np.cov(i_images_matrix, rowvar=0)\n",
    "        self.fit_data[f\"mean{category_i}\"] = class_i_mean\n",
    "        self.fit_data[f\"cov{category_i}\"] = class_i_cov\n",
    "\n",
    "    def fit(self, input_train, input_label):\n",
    "        start_time = time.time()\n",
    "        self.train_data = input_train\n",
    "        self.train_label = input_label\n",
    "        self.category_num = max(input_label)\n",
    "        for i in range(self.category_num + 1):\n",
    "            self.gaussian_fit(i)\n",
    "\n",
    "    def gaussian_predict(self, test_data):\n",
    "        start_time = time.time()\n",
    "        self.test_data = test_data\n",
    "        for test_sample in self.test_data:\n",
    "            category_possibilities = []\n",
    "            for i in range(self.category_num):\n",
    "                try:\n",
    "                    i_possibility = multivariate_normal.pdf(test_sample, mean=self.fit_data[f\"mean{i}\"],\n",
    "                                                            cov=self.fit_data[f\"cov{i}\"])\n",
    "                    category_possibilities.append(i_possibility)\n",
    "                except Exception:\n",
    "                    pass\n",
    "            try:\n",
    "                self.test_categories.append(np.argmax(category_possibilities))\n",
    "            except Exception:\n",
    "                pass\n",
    "        return self.test_categories"
   ]
  },
  {
   "cell_type": "markdown",
   "id": "a80fe0a8",
   "metadata": {},
   "source": [
    "# Naive Bayes class "
   ]
  },
  {
   "cell_type": "code",
   "execution_count": 19,
   "id": "5b7bf412",
   "metadata": {},
   "outputs": [],
   "source": [
    "class NaiveBayes:\n",
    "    def fit(self, Xx, y):\n",
    "        # get the size of input dataset\n",
    "        Xx = np.array(Xx)\n",
    "        n_samples, n_features = Xx.shape\n",
    "        # get unique clases which are buildings and explosions\n",
    "        self._classes = np.unique(y)\n",
    "        n_classes = len(self._classes)\n",
    "\n",
    "        # calculate mean, var, and prior for each class\n",
    "        self._mean = np.zeros((n_classes, n_features), dtype=np.float64)\n",
    "        self._var = np.zeros((n_classes, n_features), dtype=np.float64)\n",
    "        self._priors = np.zeros(n_classes, dtype=np.float64)\n",
    "\n",
    "        for idx, c in enumerate(self._classes):\n",
    "            # where y is equal to class that being used with c label\n",
    "            X_c = Xx[y == c]\n",
    "            self._mean[idx, :] = X_c.mean(axis=0)\n",
    "            self._var[idx, :] = X_c.var(axis=0)\n",
    "            self._priors[idx] = X_c.shape[0] / float(n_samples)\n",
    "\n",
    "    def predict(self, X):\n",
    "        #  for each sample in test sample apply perdiction\n",
    "        y_pred = [self._predict(x) for x in X]\n",
    "        return np.array(y_pred)\n",
    "\n",
    "    def _predict(self, x):\n",
    "        posteriors = []\n",
    "        \n",
    "        # calculate posterior probability for each class\n",
    "        for idx, c in enumerate(self._classes):\n",
    "            prior = np.log(self._priors[idx])\n",
    "            posterior = np.sum(np.log(self._pdf(idx, x)))\n",
    "            posterior = prior + posterior\n",
    "            posteriors.append(posterior)\n",
    "\n",
    "        # return class with highest posterior probability\n",
    "        return self._classes[np.argmax(posteriors)]\n",
    "\n",
    "    def _pdf(self, class_idx, x):\n",
    "        mean = self._mean[class_idx]\n",
    "        var = self._var[class_idx]\n",
    "        numerator = np.exp(-((x - mean) ** 2) / (2 * var))\n",
    "        denominator = np.sqrt(2 * np.pi * var)\n",
    "        return numerator / denominator\n"
   ]
  },
  {
   "cell_type": "code",
   "execution_count": null,
   "id": "a5c29406",
   "metadata": {},
   "outputs": [],
   "source": [
    "# apply Bayes Classifier to image dataset and record the time\n",
    "start_time = time.time()\n",
    "bg = BayesGaussian()\n",
    "bg.fit(Xx_pca, Y_train)\n",
    "predictions = bg.gaussian_predict(Xt_pca)\n",
    "\n",
    "\n",
    "print(\"\\n--- {} seconds to run Guassian Bayes classification. ---\\n\".format((time.time() - start_time)))\n",
    "print(\"Guassian Bayes classification precision: \", evaluate(Y_test, predictions))"
   ]
  },
  {
   "cell_type": "code",
   "execution_count": 12,
   "id": "89c81b4d",
   "metadata": {},
   "outputs": [
    {
     "name": "stdout",
     "output_type": "stream",
     "text": [
      "\n",
      "--- 76.7658257484436 seconds to run Naive Bayes classification. ---\n",
      "\n",
      "Naive Bayes classification precision:  45.20547945205479\n"
     ]
    }
   ],
   "source": [
    "# apply naive Bayes Classifier to image dataset and record the time\n",
    "start_time = time.time()\n",
    "nb = NaiveBayes()\n",
    "nb.fit(Xx, Y_train)\n",
    "predictions = nb.predict(Xt)\n",
    "\n",
    "\n",
    "print(\"\\n--- {} seconds to run Naive Bayes classification. ---\\n\".format((time.time() - start_time)))\n",
    "print(\"Naive Bayes classification precision: \", evaluate(Y_test, predictions))"
   ]
  },
  {
   "cell_type": "markdown",
   "id": "0fd6d3ca",
   "metadata": {},
   "source": [
    "# Apply SVM classification to image dataset"
   ]
  },
  {
   "cell_type": "code",
   "execution_count": 6,
   "id": "19b868ca",
   "metadata": {},
   "outputs": [],
   "source": [
    "# defined model will be used in all raw images and feature data\n",
    "models = (svm.SVC(kernel=\"rbf\", gamma=0.1, C=0.1), svm.SVC(kernel=\"rbf\", gamma=0.8, C=1),\n",
    "          svm.SVC(kernel=\"rbf\", gamma=0.5, C=5), svm.SVC(kernel=\"rbf\", gamma=0.8, C=10),\n",
    "          svm.SVC(kernel=\"rbf\", gamma=0.1, C=100), svm.SVC(kernel=\"poly\", degree=2),\n",
    "          svm.SVC(kernel=\"poly\", degree=3), svm.SVC(kernel=\"poly\", degree=8),\n",
    "          svm.SVC(kernel=\"poly\", degree=10), svm.SVC(kernel=\"poly\", degree=12),)\n",
    "\n",
    "# two kernel RBF and polynomial used in SVM\n",
    "# for polynonimal Degree of 1-50 used, higher degree avi=oides as there is only four classes\n",
    "# Gamma is used in different ranges to see the action of single training example\n",
    "# C function kept small as trades off correct classification of training examples \n",
    "# against maximization of the decision function’s margin not noticable.\n",
    "# this will take significant time to run as thers is lots of image and algorithme need to accomadate itself"
   ]
  },
  {
   "cell_type": "code",
   "execution_count": null,
   "id": "8b959e5e",
   "metadata": {},
   "outputs": [
    {
     "name": "stdout",
     "output_type": "stream",
     "text": [
      "\n",
      "-->>>The training of the model is started, please wait for while as it may take few minutes to complete\n",
      "The Model is trained well with the given images data\n",
      "\n",
      "--- 971.6211521625519 seconds to run SVM classification with kernel of rbf and parameters equal to: SVC(C=0.1, gamma=0.1). ---\n",
      "\n",
      "precision for this SVM classification:  80.47945205479452\n",
      "\n",
      "-->>>The training of the model is started, please wait for while as it may take few minutes to complete\n",
      "The Model is trained well with the given images data\n",
      "\n",
      "--- 1964.98948264122 seconds to run SVM classification with kernel of rbf and parameters equal to: SVC(C=1, gamma=0.8). ---\n",
      "\n",
      "precision for this SVM classification:  80.47945205479452\n",
      "\n",
      "-->>>The training of the model is started, please wait for while as it may take few minutes to complete\n",
      "The Model is trained well with the given images data\n",
      "\n",
      "--- 2944.151960372925 seconds to run SVM classification with kernel of rbf and parameters equal to: SVC(C=5, gamma=0.5). ---\n",
      "\n",
      "precision for this SVM classification:  80.47945205479452\n",
      "\n",
      "-->>>The training of the model is started, please wait for while as it may take few minutes to complete\n",
      "The Model is trained well with the given images data\n",
      "\n",
      "--- 3941.324912071228 seconds to run SVM classification with kernel of rbf and parameters equal to: SVC(C=10, gamma=0.8). ---\n",
      "\n",
      "precision for this SVM classification:  80.47945205479452\n",
      "\n",
      "-->>>The training of the model is started, please wait for while as it may take few minutes to complete\n",
      "The Model is trained well with the given images data\n",
      "\n",
      "--- 4910.4553480148315 seconds to run SVM classification with kernel of rbf and parameters equal to: SVC(C=100, gamma=0.1). ---\n",
      "\n",
      "precision for this SVM classification:  80.47945205479452\n",
      "\n",
      "-->>>The training of the model is started, please wait for while as it may take few minutes to complete\n",
      "The Model is trained well with the given images data\n",
      "\n",
      "--- 5242.623472213745 seconds to run SVM classification with kernel of poly and parameters equal to: SVC(degree=2, kernel='poly'). ---\n",
      "\n",
      "precision for this SVM classification:  81.62100456621005\n",
      "\n",
      "-->>>The training of the model is started, please wait for while as it may take few minutes to complete\n",
      "The Model is trained well with the given images data\n",
      "\n",
      "--- 5714.0474462509155 seconds to run SVM classification with kernel of poly and parameters equal to: SVC(kernel='poly'). ---\n",
      "\n",
      "precision for this SVM classification:  79.45205479452055\n",
      "\n",
      "-->>>The training of the model is started, please wait for while as it may take few minutes to complete\n",
      "The Model is trained well with the given images data\n",
      "\n",
      "--- 6078.933609724045 seconds to run SVM classification with kernel of poly and parameters equal to: SVC(degree=8, kernel='poly'). ---\n",
      "\n",
      "precision for this SVM classification:  68.0365296803653\n",
      "\n",
      "-->>>The training of the model is started, please wait for while as it may take few minutes to complete\n",
      "The Model is trained well with the given images data\n",
      "\n",
      "--- 6496.3931720256805 seconds to run SVM classification with kernel of poly and parameters equal to: SVC(degree=15, kernel='poly'). ---\n",
      "\n",
      "precision for this SVM classification:  61.64383561643836\n",
      "\n",
      "-->>>The training of the model is started, please wait for while as it may take few minutes to complete\n"
     ]
    }
   ],
   "source": [
    "# apply svm models on datasets\n",
    "start_time = time.time()\n",
    "for i in models:\n",
    "    print(\"\\n-->>>The training of the model is started, please wait for while as it may take few minutes to complete\")\n",
    "    i.fit(Xx, Y_train)\n",
    "    print('The Model is trained well with the given images data')\n",
    "    pred_svm = i.predict(Xt)\n",
    "\n",
    "    print(\"\\n--- {} seconds to run SVM classification with kernel of {} and parameters equal to: {}. ---\\n\".format((time.time() - start_time), i.kernel, i))\n",
    "    print(\"precision for this SVM classification: \", evaluate(Y_test, pred_svm))\n",
    "\n",
    "print(\"\\n--- {} seconds to run all models of SVM classification. ---\\n\".format((time.time() - start_time)))"
   ]
  },
  {
   "cell_type": "markdown",
   "id": "09591e6f",
   "metadata": {},
   "source": [
    "#  Step 2"
   ]
  },
  {
   "cell_type": "code",
   "execution_count": 7,
   "id": "785dde06",
   "metadata": {},
   "outputs": [],
   "source": [
    "# in here we will read Gabor data and 225 grid feature data\n",
    "# reding procedure is same as the images\n",
    "X_Gabor = []\n",
    "keyF = os.listdir(r\"project-data\\features\\gabor46\")\n",
    "for i in keyF:\n",
    "    pathGabor = os.path.join(\"project-data\\\\features\\\\gabor46\\\\\", i)\n",
    "    tmpF = np.loadtxt(pathGabor)\n",
    "    for i in tmpF:\n",
    "        X_Gabor.append(i[1:])\n",
    "\n",
    "X_Grid = []\n",
    "keyF = os.listdir(r\"project-data\\features\\grid5x5\")\n",
    "for i in keyF:\n",
    "    pathGrid = os.path.join(\"project-data\\\\features\\\\grid5x5\\\\\", i)\n",
    "    tmpF = np.loadtxt(pathGrid)\n",
    "    for i in tmpF:\n",
    "        X_Grid.append(i[1:])\n",
    "        \n",
    "# all dataset is divided in two fold as train and test data set\n",
    "# for the sake of cross validation, together random shuffle wil be used\n",
    "tempBld = list(zip(X_Gabor, X_Grid, Y))\n",
    "random.shuffle(tempBld)\n",
    "X_Gabor, X_Grid, Y = zip(*tempBld)\n",
    "X_Gabor_train, X_Gabor_test = X_Gabor[:][:int(len(Y) * 0.75)], X_Gabor[:][int(len(Y) * 0.75):]\n",
    "X_Grid_train, X_Grid_test = X_Grid[:][:int(len(Y) * 0.75)], X_Grid[:][int(len(Y) * 0.75):]\n",
    "Y_train, Y_test = Y[:int(len(Y) * 0.75)], Y[int(len(Y) * 0.75):]\n",
    "\n",
    "def evaluate(y_true, y_pred):\n",
    "    return (sum(x == y for x, y in zip(y_true, y_pred)) / len(y_true)) * 100"
   ]
  },
  {
   "cell_type": "markdown",
   "id": "36227ea2",
   "metadata": {},
   "source": [
    "# knn for Gabor Feature data"
   ]
  },
  {
   "cell_type": "code",
   "execution_count": 15,
   "id": "af26deab",
   "metadata": {},
   "outputs": [
    {
     "name": "stdout",
     "output_type": "stream",
     "text": [
      "K = 1; Precision for KNN prediction with Gabor Data: 72.3744292237443\n",
      "\n",
      "--- 63.32172250747681 seconds to run KNN for Gabor Data with K reach to 1. ---\n",
      "\n",
      "K = 4; Precision for KNN prediction with Gabor Data: 79.5662100456621\n",
      "\n",
      "--- 114.31811308860779 seconds to run KNN for Gabor Data with K reach to 4. ---\n",
      "\n",
      "K = 7; Precision for KNN prediction with Gabor Data: 82.76255707762557\n",
      "\n",
      "--- 165.55113887786865 seconds to run KNN for Gabor Data with K reach to 7. ---\n",
      "\n",
      "K = 10; Precision for KNN prediction with Gabor Data: 83.10502283105022\n",
      "\n",
      "--- 218.89079427719116 seconds to run KNN for Gabor Data with K reach to 10. ---\n",
      "\n",
      "K = 20; Precision for KNN prediction with Gabor Data: 83.33333333333334\n",
      "\n",
      "--- 268.5619885921478 seconds to run KNN for Gabor Data with K reach to 20. ---\n",
      "\n"
     ]
    },
    {
     "data": {
      "image/png": "[encoded data removed]",
      "text/plain": [
       "<Figure size 432x288 with 1 Axes>"
      ]
     },
     "metadata": {
      "needs_background": "light"
     },
     "output_type": "display_data"
    }
   ],
   "source": [
    "start_time = time.time()\n",
    "kVals = [1, 4, 7, 10, 20]\n",
    "accKNN = []\n",
    "for k in kVals:\n",
    "    y_pred_knn = predict(X_Gabor_train, Y_train, X_Gabor_test, k)\n",
    "    acc_KNN = evaluate(Y_test, y_pred_knn)\n",
    "    accKNN.append(acc_KNN)\n",
    "    print(\"K = \" + str(k) + \"; Precision for KNN prediction with Gabor Data: \" + str(acc_KNN))\n",
    "    \n",
    "    print(\"\\n--- {} seconds to run KNN for Gabor Data with K reach to {}. ---\\n\".format((time.time() - start_time), k))\n",
    "\n",
    "if len(kVals) > 1:\n",
    "    plt.plot(kVals, np.transpose(accKNN), 'r', label = 'KNN for Gabor')\n",
    "    plt.legend(loc = 'upper right')\n",
    "    plt.xlabel('K value')\n",
    "    plt.ylabel('precision')\n",
    "    plt.title(\"Precision-recall curve for plain KNN with Gabor Data\")"
   ]
  },
  {
   "cell_type": "markdown",
   "id": "c755411a",
   "metadata": {},
   "source": [
    "# knn for Grid color Feature data"
   ]
  },
  {
   "cell_type": "code",
   "execution_count": 16,
   "id": "4c8a54e3",
   "metadata": {},
   "outputs": [
    {
     "name": "stdout",
     "output_type": "stream",
     "text": [
      "K = 1; Precision for KNN prediction with Grid Data: 71.23287671232876\n",
      "\n",
      "--- 63.59795308113098 seconds to run KNN for Grid Data with K reach to 1. ---\n",
      "\n",
      "K = 4; Precision for KNN prediction with Grid Data: 79.7945205479452\n",
      "\n",
      "--- 121.72301936149597 seconds to run KNN for Grid Data with K reach to 4. ---\n",
      "\n",
      "K = 7; Precision for KNN prediction with Grid Data: 83.10502283105022\n",
      "\n",
      "--- 181.17206692695618 seconds to run KNN for Grid Data with K reach to 7. ---\n",
      "\n",
      "K = 10; Precision for KNN prediction with Grid Data: 83.33333333333334\n",
      "\n",
      "--- 239.42373180389404 seconds to run KNN for Grid Data with K reach to 10. ---\n",
      "\n",
      "K = 20; Precision for KNN prediction with Grid Data: 83.33333333333334\n",
      "\n",
      "--- 298.5806043148041 seconds to run KNN for Grid Data with K reach to 20. ---\n",
      "\n"
     ]
    },
    {
     "data": {
      "image/png": "[encoded data removed]",
      "text/plain": [
       "<Figure size 432x288 with 1 Axes>"
      ]
     },
     "metadata": {
      "needs_background": "light"
     },
     "output_type": "display_data"
    }
   ],
   "source": [
    "start_time = time.time()\n",
    "kVals = [1, 4, 7, 10, 20]\n",
    "accKNN = []\n",
    "for k in kVals:\n",
    "    y_pred_knn = predict(X_Grid_train, Y_train, X_Grid_test, k)\n",
    "    acc_KNN = evaluate(Y_test, y_pred_knn)\n",
    "    accKNN.append(acc_KNN)\n",
    "    print(\"K = \" + str(k) + \"; Precision for KNN prediction with Grid Data: \" + str(acc_KNN))\n",
    "    \n",
    "    print(\"\\n--- {} seconds to run KNN for Grid Data with K reach to {}. ---\\n\".format((time.time() - start_time), k))\n",
    "\n",
    "if len(kVals) > 1:\n",
    "    plt.plot(kVals, np.transpose(accKNN), 'r', label = 'KNN for Grid')\n",
    "    plt.legend(loc = 'upper right')\n",
    "    plt.xlabel('K value')\n",
    "    plt.ylabel('precision')\n",
    "    plt.title(\"Precision-recall curve for plain KNN with Grid Data\")"
   ]
  },
  {
   "cell_type": "markdown",
   "id": "386a8c25",
   "metadata": {},
   "source": [
    "# Bayes for Gabor texture data"
   ]
  },
  {
   "cell_type": "code",
   "execution_count": 20,
   "id": "492b97e5",
   "metadata": {},
   "outputs": [
    {
     "name": "stdout",
     "output_type": "stream",
     "text": [
      "\n",
      "--- 4.938791513442993 seconds to run Guassian Bayes classification. ---\n",
      "\n",
      "Guassian Bayes classification precision for Gabor:  44.40639269406393\n"
     ]
    }
   ],
   "source": [
    "# aply Bayes Classifier to image dataset and record the time\n",
    "start_time = time.time()\n",
    "bg = BayesGaussian()\n",
    "bg.fit(X_Gabor_train, Y_train)\n",
    "predictions = bg.gaussian_predict(X_Gabor_test)\n",
    "\n",
    "\n",
    "print(\"\\n--- {} seconds to run Guassian Bayes classification. ---\\n\".format((time.time() - start_time)))\n",
    "print(\"Guassian Bayes classification precision for Gabor: \", evaluate(Y_test, predictions))"
   ]
  },
  {
   "cell_type": "markdown",
   "id": "699bccf5",
   "metadata": {},
   "source": [
    "# Naive Bayes for Gabor texture data"
   ]
  },
  {
   "cell_type": "code",
   "execution_count": 21,
   "id": "38880cf1",
   "metadata": {},
   "outputs": [
    {
     "name": "stdout",
     "output_type": "stream",
     "text": [
      "\n",
      "--- 0.37802863121032715 seconds to run Naive Bayes classification. ---\n",
      "\n",
      "Naive Bayes classification precision for Gabor:  62.78538812785388\n"
     ]
    }
   ],
   "source": [
    "start_time = time.time()\n",
    "nb = NaiveBayes()\n",
    "nb.fit(X_Gabor_train, Y_train)\n",
    "predictions = nb.predict(X_Gabor_test)\n",
    "\n",
    "\n",
    "print(\"\\n--- {} seconds to run Naive Bayes classification. ---\\n\".format((time.time() - start_time)))\n",
    "print(\"Naive Bayes classification precision for Gabor: \", evaluate(Y_test, predictions))"
   ]
  },
  {
   "cell_type": "markdown",
   "id": "6601c047",
   "metadata": {},
   "source": [
    "# Bayes for Grid color data"
   ]
  },
  {
   "cell_type": "code",
   "execution_count": 22,
   "id": "adab5dfb",
   "metadata": {},
   "outputs": [
    {
     "name": "stdout",
     "output_type": "stream",
     "text": [
      "\n",
      "--- 30.819297790527344 seconds to run Guassian Bayes classification. ---\n",
      "\n",
      "Guassian Bayes classification precision for Grid:  78.88127853881278\n"
     ]
    }
   ],
   "source": [
    "# aply Bayes Classifier to image dataset and record the time\n",
    "start_time = time.time()\n",
    "bg = BayesGaussian()\n",
    "bg.fit(X_Grid_train, Y_train)\n",
    "predictions = bg.gaussian_predict(X_Grid_test)\n",
    "\n",
    "\n",
    "print(\"\\n--- {} seconds to run Guassian Bayes classification. ---\\n\".format((time.time() - start_time)))\n",
    "print(\"Guassian Bayes classification precision for Grid: \", evaluate(Y_test, predictions))"
   ]
  },
  {
   "cell_type": "markdown",
   "id": "cb872c1e",
   "metadata": {},
   "source": [
    "# Naive Bayes for Grid color data"
   ]
  },
  {
   "cell_type": "code",
   "execution_count": 23,
   "id": "d3e72284",
   "metadata": {},
   "outputs": [
    {
     "name": "stdout",
     "output_type": "stream",
     "text": [
      "\n",
      "--- 0.484738826751709 seconds to run Naive Bayes classification. ---\n",
      "\n",
      "Naive Bayes classification precision for Grid:  50.799086757990864\n"
     ]
    }
   ],
   "source": [
    "start_time = time.time()\n",
    "nb = NaiveBayes()\n",
    "nb.fit(X_Grid_train, Y_train)\n",
    "predictions = nb.predict(X_Grid_test)\n",
    "\n",
    "\n",
    "print(\"\\n--- {} seconds to run Naive Bayes classification. ---\\n\".format((time.time() - start_time)))\n",
    "print(\"Naive Bayes classification precision for Grid: \", evaluate(Y_test, predictions))"
   ]
  },
  {
   "cell_type": "markdown",
   "id": "0650ce7a",
   "metadata": {},
   "source": [
    "# SVM for Gabor Texture dataset"
   ]
  },
  {
   "cell_type": "code",
   "execution_count": null,
   "id": "a75cafc5",
   "metadata": {},
   "outputs": [
    {
     "name": "stdout",
     "output_type": "stream",
     "text": [
      "\n",
      "-->>>The training of the model is started, please wait for while as it may take few minutes to complete\n",
      "The Model is trained well with the given images data\n",
      "\n",
      "--- 2.5631425380706787 seconds to run SVM classification with kernel of rbf and parameters equal to: SVC(C=0.1, gamma=0.1). ---\n",
      "\n",
      "precision for this SVM classification:  83.33333333333334\n",
      "\n",
      "-->>>The training of the model is started, please wait for while as it may take few minutes to complete\n",
      "The Model is trained well with the given images data\n",
      "\n",
      "--- 7.341562986373901 seconds to run SVM classification with kernel of rbf and parameters equal to: SVC(C=1, gamma=0.8). ---\n",
      "\n",
      "precision for this SVM classification:  83.33333333333334\n",
      "\n",
      "-->>>The training of the model is started, please wait for while as it may take few minutes to complete\n",
      "The Model is trained well with the given images data\n",
      "\n",
      "--- 11.975172996520996 seconds to run SVM classification with kernel of rbf and parameters equal to: SVC(C=5, gamma=0.5). ---\n",
      "\n",
      "precision for this SVM classification:  82.76255707762557\n",
      "\n",
      "-->>>The training of the model is started, please wait for while as it may take few minutes to complete\n",
      "The Model is trained well with the given images data\n",
      "\n",
      "--- 17.300968408584595 seconds to run SVM classification with kernel of rbf and parameters equal to: SVC(C=10, gamma=0.8). ---\n",
      "\n",
      "precision for this SVM classification:  83.33333333333334\n",
      "\n",
      "-->>>The training of the model is started, please wait for while as it may take few minutes to complete\n",
      "The Model is trained well with the given images data\n",
      "\n",
      "--- 20.01695728302002 seconds to run SVM classification with kernel of rbf and parameters equal to: SVC(C=100, gamma=0.1). ---\n",
      "\n",
      "precision for this SVM classification:  76.9406392694064\n",
      "\n",
      "-->>>The training of the model is started, please wait for while as it may take few minutes to complete\n",
      "The Model is trained well with the given images data\n",
      "\n",
      "--- 51.64773893356323 seconds to run SVM classification with kernel of poly and parameters equal to: SVC(degree=2, kernel='poly'). ---\n",
      "\n",
      "precision for this SVM classification:  83.33333333333334\n",
      "\n",
      "-->>>The training of the model is started, please wait for while as it may take few minutes to complete\n",
      "The Model is trained well with the given images data\n",
      "\n",
      "--- 91.39851379394531 seconds to run SVM classification with kernel of poly and parameters equal to: SVC(kernel='poly'). ---\n",
      "\n",
      "precision for this SVM classification:  83.33333333333334\n",
      "\n",
      "-->>>The training of the model is started, please wait for while as it may take few minutes to complete\n",
      "The Model is trained well with the given images data\n",
      "\n",
      "--- 841.9957888126373 seconds to run SVM classification with kernel of poly and parameters equal to: SVC(degree=8, kernel='poly'). ---\n",
      "\n",
      "precision for this SVM classification:  72.3744292237443\n",
      "\n",
      "-->>>The training of the model is started, please wait for while as it may take few minutes to complete\n",
      "The Model is trained well with the given images data\n",
      "\n",
      "--- 2270.4171998500824 seconds to run SVM classification with kernel of poly and parameters equal to: SVC(degree=10, kernel='poly'). ---\n",
      "\n",
      "precision for this SVM classification:  67.92237442922374\n",
      "\n",
      "-->>>The training of the model is started, please wait for while as it may take few minutes to complete\n"
     ]
    }
   ],
   "source": [
    "# apply svm models on datasets\n",
    "start_time = time.time()\n",
    "for i in models:\n",
    "    print(\"\\n-->>>The training of the model is started, please wait for while as it may take few minutes to complete\")\n",
    "    i.fit(X_Gabor_train, Y_train)\n",
    "    print('The Model is trained well with the given images data')\n",
    "    pred_svm = i.predict(X_Gabor_test)\n",
    "\n",
    "    print(\"\\n--- {} seconds to run SVM classification with kernel of {} and parameters equal to: {}. ---\\n\".format((time.time() - start_time), i.kernel, i))\n",
    "    print(\"precision for this SVM classification: \", evaluate(Y_test, pred_svm))\n",
    "\n",
    "print(\"\\n--- {} seconds to run all models of SVM classification. ---\\n\".format((time.time() - start_time)))"
   ]
  },
  {
   "cell_type": "markdown",
   "id": "1429e95b",
   "metadata": {},
   "source": [
    "# SVM with Grid feature color dataset"
   ]
  },
  {
   "cell_type": "code",
   "execution_count": 8,
   "id": "b40f8d92",
   "metadata": {},
   "outputs": [
    {
     "name": "stdout",
     "output_type": "stream",
     "text": [
      "\n",
      "-->>>The training of the model is started, please wait for while as it may take few minutes to complete\n",
      "The Model is trained well with the given images data\n",
      "\n",
      "--- 12.948669910430908 seconds to run SVM classification with kernel of rbf and parameters equal to: SVC(C=0.1, gamma=0.1). ---\n",
      "\n",
      "precision for this SVM classification:  81.39269406392694\n",
      "\n",
      "-->>>The training of the model is started, please wait for while as it may take few minutes to complete\n",
      "The Model is trained well with the given images data\n",
      "\n",
      "--- 25.706664085388184 seconds to run SVM classification with kernel of rbf and parameters equal to: SVC(C=1, gamma=0.8). ---\n",
      "\n",
      "precision for this SVM classification:  81.39269406392694\n",
      "\n",
      "-->>>The training of the model is started, please wait for while as it may take few minutes to complete\n",
      "The Model is trained well with the given images data\n",
      "\n",
      "--- 38.39525318145752 seconds to run SVM classification with kernel of rbf and parameters equal to: SVC(C=5, gamma=0.5). ---\n",
      "\n",
      "precision for this SVM classification:  81.39269406392694\n",
      "\n",
      "-->>>The training of the model is started, please wait for while as it may take few minutes to complete\n",
      "The Model is trained well with the given images data\n",
      "\n",
      "--- 51.05110740661621 seconds to run SVM classification with kernel of rbf and parameters equal to: SVC(C=10, gamma=0.8). ---\n",
      "\n",
      "precision for this SVM classification:  81.39269406392694\n",
      "\n",
      "-->>>The training of the model is started, please wait for while as it may take few minutes to complete\n",
      "The Model is trained well with the given images data\n",
      "\n",
      "--- 68.28222990036011 seconds to run SVM classification with kernel of rbf and parameters equal to: SVC(C=100, gamma=0.1). ---\n",
      "\n",
      "precision for this SVM classification:  81.39269406392694\n",
      "\n",
      "-->>>The training of the model is started, please wait for while as it may take few minutes to complete\n",
      "The Model is trained well with the given images data\n",
      "\n",
      "--- 73.85625553131104 seconds to run SVM classification with kernel of poly and parameters equal to: SVC(degree=2, kernel='poly'). ---\n",
      "\n",
      "precision for this SVM classification:  81.39269406392694\n",
      "\n",
      "-->>>The training of the model is started, please wait for while as it may take few minutes to complete\n",
      "The Model is trained well with the given images data\n",
      "\n",
      "--- 78.4441442489624 seconds to run SVM classification with kernel of poly and parameters equal to: SVC(kernel='poly'). ---\n",
      "\n",
      "precision for this SVM classification:  81.39269406392694\n",
      "\n",
      "-->>>The training of the model is started, please wait for while as it may take few minutes to complete\n",
      "The Model is trained well with the given images data\n",
      "\n",
      "--- 83.63112807273865 seconds to run SVM classification with kernel of poly and parameters equal to: SVC(degree=8, kernel='poly'). ---\n",
      "\n",
      "precision for this SVM classification:  78.76712328767124\n",
      "\n",
      "-->>>The training of the model is started, please wait for while as it may take few minutes to complete\n",
      "The Model is trained well with the given images data\n",
      "\n",
      "--- 88.68668460845947 seconds to run SVM classification with kernel of poly and parameters equal to: SVC(degree=10, kernel='poly'). ---\n",
      "\n",
      "precision for this SVM classification:  77.28310502283105\n",
      "\n",
      "-->>>The training of the model is started, please wait for while as it may take few minutes to complete\n",
      "The Model is trained well with the given images data\n",
      "\n",
      "--- 94.27038955688477 seconds to run SVM classification with kernel of poly and parameters equal to: SVC(degree=12, kernel='poly'). ---\n",
      "\n",
      "precision for this SVM classification:  76.59817351598174\n",
      "\n",
      "--- 94.28335547447205 seconds to run all models of SVM classification. ---\n",
      "\n"
     ]
    }
   ],
   "source": [
    "# apply svm models on datasets\n",
    "start_time = time.time()\n",
    "for i in models:\n",
    "    print(\"\\n-->>>The training of the model is started, please wait for while as it may take few minutes to complete\")\n",
    "    i.fit(X_Grid_train, Y_train)\n",
    "    print('The Model is trained well with the given images data')\n",
    "    pred_svm = i.predict(X_Grid_test)\n",
    "\n",
    "    print(\"\\n--- {} seconds to run SVM classification with kernel of {} and parameters equal to: {}. ---\\n\".format((time.time() - start_time), i.kernel, i))\n",
    "    print(\"precision for this SVM classification: \", evaluate(Y_test, pred_svm))\n",
    "\n",
    "print(\"\\n--- {} seconds to run all models of SVM classification. ---\\n\".format((time.time() - start_time)))"
   ]
  },
  {
   "cell_type": "code",
   "execution_count": null,
   "id": "0951c57f",
   "metadata": {},
   "outputs": [],
   "source": []
  },
  {
   "cell_type": "code",
   "execution_count": null,
   "id": "52a3493b",
   "metadata": {},
   "outputs": [],
   "source": []
  }
 ],
 "metadata": {
  "kernelspec": {
   "display_name": "Python 3 (ipykernel)",
   "language": "python",
   "name": "python3"
  },
  "language_info": {
   "codemirror_mode": {
    "name": "ipython",
    "version": 3
   },
   "file_extension": ".py",
   "mimetype": "text/x-python",
   "name": "python",
   "nbconvert_exporter": "python",
   "pygments_lexer": "ipython3",
   "version": "3.9.7"
  }
 },
 "nbformat": 4,
 "nbformat_minor": 5
}
